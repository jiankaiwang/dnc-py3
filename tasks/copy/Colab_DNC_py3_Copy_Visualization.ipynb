{
  "nbformat": 4,
  "nbformat_minor": 0,
  "metadata": {
    "colab": {
      "name": "DNC-py3-Copy-Visualization.ipynb",
      "version": "0.3.2",
      "provenance": [],
      "collapsed_sections": [],
      "toc_visible": true
    },
    "kernelspec": {
      "name": "python3",
      "display_name": "Python 3"
    },
    "accelerator": "GPU"
  },
  "cells": [
    {
      "metadata": {
        "id": "Qoi4npP1scCx",
        "colab_type": "code",
        "colab": {}
      },
      "cell_type": "code",
      "source": [
        "import os"
      ],
      "execution_count": 0,
      "outputs": []
    },
    {
      "metadata": {
        "id": "FNJRywSquT-q",
        "colab_type": "text"
      },
      "cell_type": "markdown",
      "source": [
        "# Reference\n",
        "\n",
        "* https://github.com/Kajiyu/dnc-py3.git\n",
        "* https://github.com/Mostafa-Samir/DNC-tensorflow.git"
      ]
    },
    {
      "metadata": {
        "id": "68KZVEi8rfJ3",
        "colab_type": "text"
      },
      "cell_type": "markdown",
      "source": [
        "# Source Code"
      ]
    },
    {
      "metadata": {
        "id": "WnSKswVNrQsT",
        "colab_type": "code",
        "outputId": "4541b6ee-535c-43ea-fae2-b30f4e625b1a",
        "colab": {
          "base_uri": "https://localhost:8080/",
          "height": 119
        }
      },
      "cell_type": "code",
      "source": [
        "!git clone https://github.com/Kajiyu/dnc-py3.git"
      ],
      "execution_count": 0,
      "outputs": [
        {
          "output_type": "stream",
          "text": [
            "Cloning into 'dnc-py3'...\n",
            "remote: Enumerating objects: 317, done.\u001b[K\n",
            "remote: Total 317 (delta 0), reused 0 (delta 0), pack-reused 317\u001b[K\n",
            "Receiving objects: 100% (317/317), 43.27 MiB | 10.25 MiB/s, done.\n",
            "Resolving deltas: 100% (197/197), done.\n",
            "Checking out files: 100% (115/115), done.\n"
          ],
          "name": "stdout"
        }
      ]
    },
    {
      "metadata": {
        "id": "a22j35DzrVSs",
        "colab_type": "code",
        "outputId": "15985056-142e-4285-b881-3718302e6df7",
        "colab": {
          "base_uri": "https://localhost:8080/",
          "height": 119
        }
      },
      "cell_type": "code",
      "source": [
        "!git clone https://github.com/Mostafa-Samir/DNC-tensorflow.git"
      ],
      "execution_count": 0,
      "outputs": [
        {
          "output_type": "stream",
          "text": [
            "Cloning into 'DNC-tensorflow'...\n",
            "remote: Enumerating objects: 641, done.\u001b[K\n",
            "remote: Total 641 (delta 0), reused 0 (delta 0), pack-reused 641\u001b[K\n",
            "Receiving objects: 100% (641/641), 89.78 MiB | 11.73 MiB/s, done.\n",
            "Resolving deltas: 100% (317/317), done.\n",
            "Checking out files: 100% (56/56), done.\n"
          ],
          "name": "stdout"
        }
      ]
    },
    {
      "metadata": {
        "id": "K9fA3JPhr4yp",
        "colab_type": "code",
        "colab": {}
      },
      "cell_type": "code",
      "source": [
        "!mv ./DNC-tensorflow/tasks/copy/checkpoints ./dnc-py3/tasks/copy/"
      ],
      "execution_count": 0,
      "outputs": []
    },
    {
      "metadata": {
        "id": "2A0nb5pssOyP",
        "colab_type": "code",
        "outputId": "f98c3cad-20b7-4113-a43c-4e7cdf79ff68",
        "colab": {
          "base_uri": "https://localhost:8080/",
          "height": 34
        }
      },
      "cell_type": "code",
      "source": [
        "print(next(os.walk(\"./dnc-py3/tasks/copy/checkpoints\"))[1])"
      ],
      "execution_count": 0,
      "outputs": [
        {
          "output_type": "stream",
          "text": [
            "['model-single-10', 'model-series-4', 'model-series-2']\n"
          ],
          "name": "stdout"
        }
      ]
    },
    {
      "metadata": {
        "id": "fcl8KW6DulXV",
        "colab_type": "text"
      },
      "cell_type": "markdown",
      "source": [
        "# Copy Task"
      ]
    },
    {
      "metadata": {
        "id": "Sqk7Hr1lumew",
        "colab_type": "code",
        "colab": {}
      },
      "cell_type": "code",
      "source": [
        "import os\n",
        "import sys\n",
        "import itertools\n",
        "import numpy as np\n",
        "import tensorflow as tf\n",
        "import matplotlib.pyplot as plt\n",
        "import matplotlib.patches as mpatches\n",
        "import matplotlib.gridspec as gridspec\n",
        "from mpl_toolkits.axes_grid1 import make_axes_locatable\n",
        "\n",
        "sys.path.append(os.path.join(\".\",\"dnc-py3\"))\n",
        "from dnc.dnc import DNC\n",
        "\n",
        "sys.path.append(os.path.join(\".\",\"dnc-py3\",\"tasks\",\"copy\"))\n",
        "from feedforward_controller import FeedforwardController\n",
        "\n",
        "%matplotlib inline\n",
        "plt.rcParams['figure.figsize'] = (10, 15)"
      ],
      "execution_count": 0,
      "outputs": []
    },
    {
      "metadata": {
        "id": "IY-0VQksu_BJ",
        "colab_type": "code",
        "colab": {}
      },
      "cell_type": "code",
      "source": [
        "def generate_data(batch_size, length, size):\n",
        "\n",
        "    input_data = np.zeros((batch_size, 2 * length + 1, size), dtype=np.float32)\n",
        "    target_output = np.zeros((batch_size, 2 * length + 1, size), dtype=np.float32)\n",
        "\n",
        "    sequence = np.random.binomial(1, 0.5, (batch_size, length, size - 1))\n",
        "\n",
        "    input_data[:, :length, :size - 1] = sequence\n",
        "    input_data[:, length, -1] = 1  # the end symbol\n",
        "    target_output[:, length + 1:, :size - 1] = sequence\n",
        "    \n",
        "    return input_data, target_output"
      ],
      "execution_count": 0,
      "outputs": []
    },
    {
      "metadata": {
        "id": "7gGMZnx4vFVJ",
        "colab_type": "code",
        "colab": {}
      },
      "cell_type": "code",
      "source": [
        "def binary_cross_entropy(predictions, targets):\n",
        "\n",
        "    return tf.reduce_mean(\n",
        "        -1 * targets * tf.log(predictions) - (1 - targets) * tf.log(1 - predictions)\n",
        "    )"
      ],
      "execution_count": 0,
      "outputs": []
    },
    {
      "metadata": {
        "id": "QpHaXpxgvGjU",
        "colab_type": "code",
        "colab": {}
      },
      "cell_type": "code",
      "source": [
        "def visualize_op(input_series, dnc_output, memory_view):\n",
        "    \n",
        "    gs = gridspec.GridSpec(48, 1, hspace=0)\n",
        "\n",
        "    ww_strip = np.squeeze(memory_view['write_weightings'])\n",
        "    rw_strip = np.squeeze(memory_view['read_weightings'])\n",
        "    colored_write = np.zeros((ww_strip.shape[0], ww_strip.shape[1], 3))\n",
        "    colored_read = np.zeros((rw_strip.shape[0], rw_strip.shape[1], 3))\n",
        "    for i in range(ww_strip.shape[0]):\n",
        "        for j in range(ww_strip.shape[1]):\n",
        "            colored_read[i, j] = [rw_strip[i,j], 0., 0.]\n",
        "            colored_write[i, j] = [0., ww_strip[i,j], 0.]\n",
        "        \n",
        "    free_strip = np.vstack([np.squeeze(memory_view['free_gates'])] * 5)\n",
        "    allocation_strip = np.vstack([np.squeeze(memory_view['allocation_gates'])] * 5)\n",
        "\n",
        "\n",
        "    iax = plt.subplot(gs[0:5, 0])\n",
        "    oax = plt.subplot(gs[7:12, 0])\n",
        "    memax = plt.subplot(gs[14:24, 0])\n",
        "    fax = plt.subplot(gs[26:31, 0])\n",
        "    aax = plt.subplot(gs[31:36, 0])\n",
        "    uax = plt.subplot(gs[38:, 0])\n",
        "\n",
        "    iax.grid(True, color='gray')\n",
        "    oax.grid(True, color='gray')\n",
        "    memax.grid(True, color='gray', axis='x')\n",
        "    fax.grid(True, color='gray')\n",
        "    aax.grid(True, color='gray')\n",
        "    uax.grid(True, color='gray', axis='x')\n",
        "        \n",
        "    iax.imshow(np.squeeze(input_series.T), cmap=plt.cm.gray, interpolation='nearest')\n",
        "    iax.set_ylabel(\"Inputs\")\n",
        "    iax.set_yticks([])\n",
        "    iax.set_xticks([-0.5, 5.5, 10.5, 16.5, 21.5, 27.5, 32.5, 38.5, 43.5])\n",
        "    iax.set_xticklabels([0, 6, 11, 17, 22, 28, 33, 39, 44])\n",
        "\n",
        "    oax.imshow(np.squeeze(dnc_output.T), cmap=plt.cm.gray, interpolation='nearest')\n",
        "    oax.set_ylabel(\"Outputs\")\n",
        "    oax.set_yticks([])\n",
        "    oax.set_xticks([-0.5, 5.5, 10.5, 16.5, 21.5, 27.5, 32.5, 38.5, 43.5])\n",
        "    oax.set_xticklabels([0, 6, 11, 17, 22, 28, 33, 39, 44])\n",
        "\n",
        "    memax.imshow(np.transpose(colored_write + colored_read, [1, 0, 2]), interpolation='nearest')\n",
        "    memax.set_ylabel(\"Memory Location\")\n",
        "    memax.set_xticks([-0.5, 5.5, 10.5, 16.5, 21.5, 27.5, 32.5, 38.5, 43.5])\n",
        "    memax.set_xticklabels([0, 6, 11, 17, 22, 28, 33, 39, 44])\n",
        "    write_legend = mpatches.Rectangle((1,1), 1, 1, color='green', label='Write Head')\n",
        "    read_legend = mpatches.Rectangle((1,1), 1, 1, color='red', label='Read Head')\n",
        "    memax.legend(bbox_to_anchor=(0.21, -0.1), handles=[write_legend, read_legend])\n",
        "\n",
        "    fax.imshow(free_strip, cmap=plt.cm.gray, interpolation='nearest')\n",
        "    fax.set_ylabel(\"Free Gate\")\n",
        "    fax.set_yticks([])\n",
        "    fax.set_xticks([-0.5, 5.5, 10.5, 16.5, 21.5, 27.5, 32.5, 38.5, 43.5])\n",
        "    fax.set_xticklabels([0, 6, 11, 17, 22, 28, 33, 39, 44])\n",
        "\n",
        "    aax.imshow(allocation_strip, cmap=plt.cm.gray, interpolation='nearest')\n",
        "    aax.set_ylabel(\"Alloc. Gate\")\n",
        "    aax.set_yticks([])\n",
        "    aax.set_xticks([-0.5, 5.5, 10.5, 16.5, 21.5, 27.5, 32.5, 38.5, 43.5])\n",
        "    aax.set_xticklabels([0, 6, 11, 17, 22, 28, 33, 39, 44])\n",
        "\n",
        "    uax.imshow(np.squeeze(memory_view['usage_vectors'].T), cmap=plt.cm.gray, interpolation='nearest')\n",
        "    uax.set_ylabel(\"Memory Locations Usage\")\n",
        "    uax.set_xticks([-0.5, 5.5, 10.5, 16.5, 21.5, 27.5, 32.5, 38.5, 43.5])\n",
        "    uax.set_xticklabels([0, 6, 11, 17, 22, 28, 33, 39, 44])\n",
        "    uax.set_xlabel(\"Time\")"
      ],
      "execution_count": 0,
      "outputs": []
    },
    {
      "metadata": {
        "id": "sREG89NYvNnP",
        "colab_type": "text"
      },
      "cell_type": "markdown",
      "source": [
        "## Dynamic Memory Mechanisms"
      ]
    },
    {
      "metadata": {
        "id": "Y6sL85WJvR6Y",
        "colab_type": "text"
      },
      "cell_type": "markdown",
      "source": [
        "### Trained on Length-2 Series"
      ]
    },
    {
      "metadata": {
        "id": "uD7SYp5svIt-",
        "colab_type": "code",
        "outputId": "8a887d18-9923-4764-a7a7-e98c53cd70d9",
        "colab": {
          "base_uri": "https://localhost:8080/",
          "height": 34
        }
      },
      "cell_type": "code",
      "source": [
        "ckpts_dir = os.path.join(os.path.join(\".\",\"dnc-py3\",\"tasks\",\"copy\",'checkpoints'))\n",
        "\n",
        "tf.reset_default_graph()\n",
        "session = tf.InteractiveSession()\n",
        "\n",
        "ncomputer = DNC(\n",
        "    FeedforwardController,\n",
        "    input_size=6,\n",
        "    output_size=6,\n",
        "    max_sequence_length=44,\n",
        "    memory_words_num=10,\n",
        "    memory_word_size=10,\n",
        "    memory_read_heads=1,\n",
        "    batch_size=1\n",
        ")\n",
        "\n",
        "ncomputer.restore(session, ckpts_dir, 'model-series-2')"
      ],
      "execution_count": 0,
      "outputs": [
        {
          "output_type": "stream",
          "text": [
            "INFO:tensorflow:Restoring parameters from ./dnc-py3/tasks/copy/checkpoints/model-series-2/model.ckpt\n"
          ],
          "name": "stdout"
        }
      ]
    },
    {
      "metadata": {
        "id": "a8A8KyBZvePI",
        "colab_type": "code",
        "colab": {}
      },
      "cell_type": "code",
      "source": [
        "outputs, memory_views = ncomputer.get_outputs()\n",
        "squashed_output = tf.sigmoid(outputs)\n",
        "clipped_output = tf.clip_by_value(squashed_output, 1e-6, 1. - 1e-6)\n",
        "\n",
        "loss = binary_cross_entropy(clipped_output, ncomputer.target_output)"
      ],
      "execution_count": 0,
      "outputs": []
    },
    {
      "metadata": {
        "id": "SGwOCxPFwA1u",
        "colab_type": "code",
        "outputId": "24ab604f-94ef-4a58-a264-b257aa72841a",
        "colab": {
          "base_uri": "https://localhost:8080/",
          "height": 51
        }
      },
      "cell_type": "code",
      "source": [
        "losses = []\n",
        "matches = []\n",
        "inputs = []\n",
        "outputs = []\n",
        "views = []\n",
        "\n",
        "for i in range(1000):\n",
        "    \n",
        "    in_sequences = []\n",
        "    out_sequences = []\n",
        "    \n",
        "    for k in range(4):\n",
        "        input_data, target_output = generate_data(1, 5, 6)\n",
        "        in_sequences.append(input_data)\n",
        "        out_sequences.append(target_output)\n",
        "    \n",
        "    one_big_input = np.concatenate(in_sequences, axis=1)\n",
        "    one_big_output = np.concatenate(out_sequences, axis=1)\n",
        "\n",
        "    l, o, v = session.run([\n",
        "        loss,\n",
        "        squashed_output,\n",
        "        memory_views\n",
        "    ], feed_dict={\n",
        "        ncomputer.input_data: one_big_input,\n",
        "        ncomputer.target_output: one_big_output,\n",
        "        ncomputer.sequence_length: 44,\n",
        "        ncomputer.input_mode: np.zeros((1, 44, 6))\n",
        "    })\n",
        "    \n",
        "    losses.append(l)\n",
        "    inputs.append(one_big_input)\n",
        "    outputs.append(o)\n",
        "    views.append(v)\n",
        "    matches.append(np.allclose(one_big_output, np.around(o)))\n",
        "\n",
        "print(\"Avg. Accuracy: %.4f\" % (np.mean(matches)))\n",
        "print(\"Avg. Loss: %.4f\" % (np.mean(losses)))"
      ],
      "execution_count": 0,
      "outputs": [
        {
          "output_type": "stream",
          "text": [
            "Avg. Accuracy: 0.0000\n",
            "Avg. Loss: 0.9810\n"
          ],
          "name": "stdout"
        }
      ]
    },
    {
      "metadata": {
        "id": "1MpELf87wLl7",
        "colab_type": "text"
      },
      "cell_type": "markdown",
      "source": [
        "#### Accuracy on Length-4 Series"
      ]
    },
    {
      "metadata": {
        "id": "ue7mO4Nvw5Ur",
        "colab_type": "text"
      },
      "cell_type": "markdown",
      "source": [
        "#### Visualization on Length-4 Series"
      ]
    },
    {
      "metadata": {
        "id": "Qx0MCCtAw6cI",
        "colab_type": "code",
        "outputId": "4eac672f-ffe7-4a2a-ad23-804693d24948",
        "colab": {
          "base_uri": "https://localhost:8080/",
          "height": 868
        }
      },
      "cell_type": "code",
      "source": [
        "best_indx = np.argmin(losses)\n",
        "print(losses[best_indx])\n",
        "best_input, best_output, best_memview = inputs[best_indx], outputs[best_indx], views[best_indx]\n",
        "\n",
        "visualize_op(best_input, best_output, best_memview)"
      ],
      "execution_count": 0,
      "outputs": [
        {
          "output_type": "stream",
          "text": [
            "0.49414012\n"
          ],
          "name": "stdout"
        },
        {
          "output_type": "display_data",
          "data": {
            "image/png": "[encoded data removed]",
            "text/plain": [
              "<matplotlib.figure.Figure at 0x7f42bc5c64e0>"
            ]
          },
          "metadata": {
            "tags": []
          }
        }
      ]
    },
    {
      "metadata": {
        "id": "Wo5xnN2BxoXP",
        "colab_type": "text"
      },
      "cell_type": "markdown",
      "source": [
        "### Trained on Length-4 Series"
      ]
    },
    {
      "metadata": {
        "id": "sUcQOUZGxpqK",
        "colab_type": "code",
        "outputId": "deb9bd6a-8030-4541-d286-50795321b251",
        "colab": {
          "base_uri": "https://localhost:8080/",
          "height": 88
        }
      },
      "cell_type": "code",
      "source": [
        "ckpts_dir = os.path.join(os.path.join(\".\",\"dnc-py3\",\"tasks\",\"copy\",'checkpoints'))\n",
        "\n",
        "tf.reset_default_graph()\n",
        "session = tf.InteractiveSession()\n",
        "\n",
        "ncomputer = DNC(\n",
        "    FeedforwardController,\n",
        "    input_size=6,\n",
        "    output_size=6,\n",
        "    max_sequence_length=44,\n",
        "    memory_words_num=10,\n",
        "    memory_word_size=10,\n",
        "    memory_read_heads=1,\n",
        "    batch_size=1\n",
        ")\n",
        "\n",
        "ncomputer.restore(session, ckpts_dir, 'model-series-4')"
      ],
      "execution_count": 0,
      "outputs": [
        {
          "output_type": "stream",
          "text": [
            "/usr/local/lib/python3.6/dist-packages/tensorflow/python/client/session.py:1702: UserWarning: An interactive session is already active. This can cause out-of-memory errors in some cases. You must explicitly call `InteractiveSession.close()` to release resources held by the other session(s).\n",
            "  warnings.warn('An interactive session is already active. This can '\n"
          ],
          "name": "stderr"
        },
        {
          "output_type": "stream",
          "text": [
            "INFO:tensorflow:Restoring parameters from ./dnc-py3/tasks/copy/checkpoints/model-series-4/model.ckpt\n"
          ],
          "name": "stdout"
        }
      ]
    },
    {
      "metadata": {
        "id": "-HlSA0nGxyg4",
        "colab_type": "code",
        "colab": {}
      },
      "cell_type": "code",
      "source": [
        "outputs, memory_views = ncomputer.get_outputs()\n",
        "squashed_output = tf.sigmoid(outputs)\n",
        "clipped_output = tf.clip_by_value(squashed_output, 1e-6, 1. - 1e-6)\n",
        "\n",
        "loss = binary_cross_entropy(clipped_output, ncomputer.target_output)"
      ],
      "execution_count": 0,
      "outputs": []
    },
    {
      "metadata": {
        "id": "WSHgpsNHx41D",
        "colab_type": "text"
      },
      "cell_type": "markdown",
      "source": [
        "#### Accuracy on Length-4 Series"
      ]
    },
    {
      "metadata": {
        "id": "gCibMJIix1Xw",
        "colab_type": "code",
        "outputId": "a193e80b-8e4e-4d1f-d6d7-ba8d877214b1",
        "colab": {
          "base_uri": "https://localhost:8080/",
          "height": 51
        }
      },
      "cell_type": "code",
      "source": [
        "losses = []\n",
        "matches = []\n",
        "inputs = []\n",
        "outputs = []\n",
        "views = []\n",
        "\n",
        "for i in range(1000):\n",
        "    \n",
        "    in_sequences = []\n",
        "    out_sequences = []\n",
        "    \n",
        "    for k in range(4):\n",
        "        input_data, target_output = generate_data(1, 5, 6)\n",
        "        in_sequences.append(input_data)\n",
        "        out_sequences.append(target_output)\n",
        "    \n",
        "    one_big_input = np.concatenate(in_sequences, axis=1)\n",
        "    one_big_output = np.concatenate(out_sequences, axis=1)\n",
        "\n",
        "    l, o, v = session.run([\n",
        "        loss,\n",
        "        squashed_output,\n",
        "        memory_views\n",
        "    ], feed_dict={\n",
        "        ncomputer.input_data: one_big_input,\n",
        "        ncomputer.target_output: one_big_output,\n",
        "        ncomputer.sequence_length: 44,\n",
        "        ncomputer.input_mode: np.zeros((1, 44, 6))\n",
        "    })\n",
        "    \n",
        "    losses.append(l)\n",
        "    inputs.append(one_big_input)\n",
        "    outputs.append(o)\n",
        "    views.append(v)\n",
        "    matches.append(np.allclose(one_big_output, np.around(o)))\n",
        "\n",
        "print(\"Avg. Accuracy: %.4f\" % (np.mean(matches)))\n",
        "print(\"Avg. Loss: %.4f\" % (np.mean(losses)))"
      ],
      "execution_count": 0,
      "outputs": [
        {
          "output_type": "stream",
          "text": [
            "Avg. Accuracy: 1.0000\n",
            "Avg. Loss: 0.0000\n"
          ],
          "name": "stdout"
        }
      ]
    },
    {
      "metadata": {
        "id": "OeAIxKvuyWh0",
        "colab_type": "text"
      },
      "cell_type": "markdown",
      "source": [
        "#### Visualization on Length-4 Series"
      ]
    },
    {
      "metadata": {
        "id": "vu9RULz9x9Sg",
        "colab_type": "code",
        "outputId": "b00d14ca-7b5c-4486-e3fb-16b0ff23c84a",
        "colab": {
          "base_uri": "https://localhost:8080/",
          "height": 851
        }
      },
      "cell_type": "code",
      "source": [
        "in_sequences = []\n",
        "out_sequences = []\n",
        "    \n",
        "for k in range(4):\n",
        "    input_data, target_output = generate_data(1, 5, 6)\n",
        "    in_sequences.append(input_data)\n",
        "    out_sequences.append(target_output)\n",
        "    \n",
        "one_big_input = np.concatenate(in_sequences, axis=1)\n",
        "one_big_output = np.concatenate(out_sequences, axis=1)\n",
        "\n",
        "l, o, v = session.run([\n",
        "    loss,\n",
        "    squashed_output,\n",
        "    memory_views\n",
        "], feed_dict={\n",
        "    ncomputer.input_data: one_big_input,\n",
        "    ncomputer.target_output: one_big_output,\n",
        "    ncomputer.sequence_length: 44,\n",
        "    ncomputer.input_mode: np.zeros((1, 44, 6))\n",
        "})\n",
        "\n",
        "visualize_op(one_big_input, o, v)"
      ],
      "execution_count": 0,
      "outputs": [
        {
          "output_type": "display_data",
          "data": {
            "image/png": "[encoded data removed]",
            "text/plain": [
              "<matplotlib.figure.Figure at 0x7f42b6392080>"
            ]
          },
          "metadata": {
            "tags": []
          }
        }
      ]
    },
    {
      "metadata": {
        "id": "cEiPYk__y-fM",
        "colab_type": "text"
      },
      "cell_type": "markdown",
      "source": [
        "## Generalization and Memory Scalability"
      ]
    },
    {
      "metadata": {
        "id": "sm1aqISTy0x4",
        "colab_type": "code",
        "colab": {}
      },
      "cell_type": "code",
      "source": [
        "def llprint(message):\n",
        "    sys.stdout.write(message)\n",
        "    sys.stdout.flush()"
      ],
      "execution_count": 0,
      "outputs": []
    },
    {
      "metadata": {
        "id": "boV2DUJ0zC_X",
        "colab_type": "code",
        "outputId": "29713e05-3dca-49d4-fe39-f22d51b1d274",
        "colab": {
          "base_uri": "https://localhost:8080/",
          "height": 1142
        }
      },
      "cell_type": "code",
      "source": [
        "ckpts_dir = os.path.join(os.path.join(\".\",\"dnc-py3\",\"tasks\",\"copy\",'checkpoints'))\n",
        "\n",
        "word_counts = [10, 15, 20, 25, 30, 35, 40, 45]\n",
        "sequnce_lengthes = [5, 10, 15, 20, 25, 30, 35, 40]\n",
        "\n",
        "pairs = list(itertools.product(word_counts, sequnce_lengthes))\n",
        "fraction_correct = np.zeros((8, 8))\n",
        "count_done = 0\n",
        "\n",
        "llprint(\"Finished 0/64\")\n",
        "\n",
        "for i, seq_size in enumerate(sequnce_lengthes):\n",
        "    for j, mem_size in enumerate(word_counts):\n",
        "        \n",
        "        graph = tf.Graph()\n",
        "        with graph.as_default():\n",
        "            with tf.Session(graph=graph) as session:\n",
        "                \n",
        "                ncomputer = DNC(FeedforwardController, 6, 6, 2 * seq_size + 1, mem_size, 10, 1, 1)\n",
        "                ncomputer.restore(session, ckpts_dir, 'model-single-10')\n",
        "        \n",
        "                output,_ = ncomputer.get_outputs()\n",
        "                squashed_output = tf.sigmoid(output)\n",
        "        \n",
        "                matches = []\n",
        "                for k in range(100):\n",
        "                    input_data, target_output = generate_data(1, seq_size, 6)\n",
        "                    dnc_output = session.run(squashed_output, feed_dict={\n",
        "                        ncomputer.input_data: input_data,\n",
        "                        ncomputer.sequence_length: 2 * seq_size + 1,\n",
        "                        ncomputer.input_mode: np.zeros((1, 2 * seq_size + 1, 6))\n",
        "                    })\n",
        "            \n",
        "                    matches.append(np.array_equal(np.around(dnc_output), target_output))\n",
        "        \n",
        "                fraction_correct[i, j] = np.mean(matches)\n",
        "        \n",
        "        count_done += 1\n",
        "        llprint(\"\\rFinished %d/64\" % count_done)"
      ],
      "execution_count": 0,
      "outputs": [
        {
          "output_type": "stream",
          "text": [
            "Finished 0/64INFO:tensorflow:Restoring parameters from ./dnc-py3/tasks/copy/checkpoints/model-single-10/model.ckpt\n",
            "Finished 1/64INFO:tensorflow:Restoring parameters from ./dnc-py3/tasks/copy/checkpoints/model-single-10/model.ckpt\n",
            "Finished 2/64INFO:tensorflow:Restoring parameters from ./dnc-py3/tasks/copy/checkpoints/model-single-10/model.ckpt\n",
            "Finished 3/64INFO:tensorflow:Restoring parameters from ./dnc-py3/tasks/copy/checkpoints/model-single-10/model.ckpt\n",
            "Finished 4/64INFO:tensorflow:Restoring parameters from ./dnc-py3/tasks/copy/checkpoints/model-single-10/model.ckpt\n",
            "Finished 5/64INFO:tensorflow:Restoring parameters from ./dnc-py3/tasks/copy/checkpoints/model-single-10/model.ckpt\n",
            "Finished 6/64INFO:tensorflow:Restoring parameters from ./dnc-py3/tasks/copy/checkpoints/model-single-10/model.ckpt\n",
            "Finished 7/64INFO:tensorflow:Restoring parameters from ./dnc-py3/tasks/copy/checkpoints/model-single-10/model.ckpt\n",
            "Finished 8/64INFO:tensorflow:Restoring parameters from ./dnc-py3/tasks/copy/checkpoints/model-single-10/model.ckpt\n",
            "Finished 9/64INFO:tensorflow:Restoring parameters from ./dnc-py3/tasks/copy/checkpoints/model-single-10/model.ckpt\n",
            "Finished 10/64INFO:tensorflow:Restoring parameters from ./dnc-py3/tasks/copy/checkpoints/model-single-10/model.ckpt\n",
            "Finished 11/64INFO:tensorflow:Restoring parameters from ./dnc-py3/tasks/copy/checkpoints/model-single-10/model.ckpt\n",
            "Finished 12/64INFO:tensorflow:Restoring parameters from ./dnc-py3/tasks/copy/checkpoints/model-single-10/model.ckpt\n",
            "Finished 13/64INFO:tensorflow:Restoring parameters from ./dnc-py3/tasks/copy/checkpoints/model-single-10/model.ckpt\n",
            "Finished 14/64INFO:tensorflow:Restoring parameters from ./dnc-py3/tasks/copy/checkpoints/model-single-10/model.ckpt\n",
            "Finished 15/64INFO:tensorflow:Restoring parameters from ./dnc-py3/tasks/copy/checkpoints/model-single-10/model.ckpt\n",
            "Finished 16/64INFO:tensorflow:Restoring parameters from ./dnc-py3/tasks/copy/checkpoints/model-single-10/model.ckpt\n",
            "Finished 17/64INFO:tensorflow:Restoring parameters from ./dnc-py3/tasks/copy/checkpoints/model-single-10/model.ckpt\n",
            "Finished 18/64INFO:tensorflow:Restoring parameters from ./dnc-py3/tasks/copy/checkpoints/model-single-10/model.ckpt\n",
            "Finished 19/64INFO:tensorflow:Restoring parameters from ./dnc-py3/tasks/copy/checkpoints/model-single-10/model.ckpt\n",
            "Finished 20/64INFO:tensorflow:Restoring parameters from ./dnc-py3/tasks/copy/checkpoints/model-single-10/model.ckpt\n",
            "Finished 21/64INFO:tensorflow:Restoring parameters from ./dnc-py3/tasks/copy/checkpoints/model-single-10/model.ckpt\n",
            "Finished 22/64INFO:tensorflow:Restoring parameters from ./dnc-py3/tasks/copy/checkpoints/model-single-10/model.ckpt\n",
            "Finished 23/64INFO:tensorflow:Restoring parameters from ./dnc-py3/tasks/copy/checkpoints/model-single-10/model.ckpt\n",
            "Finished 24/64INFO:tensorflow:Restoring parameters from ./dnc-py3/tasks/copy/checkpoints/model-single-10/model.ckpt\n",
            "Finished 25/64INFO:tensorflow:Restoring parameters from ./dnc-py3/tasks/copy/checkpoints/model-single-10/model.ckpt\n",
            "Finished 26/64INFO:tensorflow:Restoring parameters from ./dnc-py3/tasks/copy/checkpoints/model-single-10/model.ckpt\n",
            "Finished 27/64INFO:tensorflow:Restoring parameters from ./dnc-py3/tasks/copy/checkpoints/model-single-10/model.ckpt\n",
            "Finished 28/64INFO:tensorflow:Restoring parameters from ./dnc-py3/tasks/copy/checkpoints/model-single-10/model.ckpt\n",
            "Finished 29/64INFO:tensorflow:Restoring parameters from ./dnc-py3/tasks/copy/checkpoints/model-single-10/model.ckpt\n",
            "Finished 30/64INFO:tensorflow:Restoring parameters from ./dnc-py3/tasks/copy/checkpoints/model-single-10/model.ckpt\n",
            "Finished 31/64INFO:tensorflow:Restoring parameters from ./dnc-py3/tasks/copy/checkpoints/model-single-10/model.ckpt\n",
            "Finished 32/64INFO:tensorflow:Restoring parameters from ./dnc-py3/tasks/copy/checkpoints/model-single-10/model.ckpt\n",
            "Finished 33/64INFO:tensorflow:Restoring parameters from ./dnc-py3/tasks/copy/checkpoints/model-single-10/model.ckpt\n",
            "Finished 34/64INFO:tensorflow:Restoring parameters from ./dnc-py3/tasks/copy/checkpoints/model-single-10/model.ckpt\n",
            "Finished 35/64INFO:tensorflow:Restoring parameters from ./dnc-py3/tasks/copy/checkpoints/model-single-10/model.ckpt\n",
            "Finished 36/64INFO:tensorflow:Restoring parameters from ./dnc-py3/tasks/copy/checkpoints/model-single-10/model.ckpt\n",
            "Finished 37/64INFO:tensorflow:Restoring parameters from ./dnc-py3/tasks/copy/checkpoints/model-single-10/model.ckpt\n",
            "Finished 38/64INFO:tensorflow:Restoring parameters from ./dnc-py3/tasks/copy/checkpoints/model-single-10/model.ckpt\n",
            "Finished 39/64INFO:tensorflow:Restoring parameters from ./dnc-py3/tasks/copy/checkpoints/model-single-10/model.ckpt\n",
            "Finished 40/64INFO:tensorflow:Restoring parameters from ./dnc-py3/tasks/copy/checkpoints/model-single-10/model.ckpt\n",
            "Finished 41/64INFO:tensorflow:Restoring parameters from ./dnc-py3/tasks/copy/checkpoints/model-single-10/model.ckpt\n",
            "Finished 42/64INFO:tensorflow:Restoring parameters from ./dnc-py3/tasks/copy/checkpoints/model-single-10/model.ckpt\n",
            "Finished 43/64INFO:tensorflow:Restoring parameters from ./dnc-py3/tasks/copy/checkpoints/model-single-10/model.ckpt\n",
            "Finished 44/64INFO:tensorflow:Restoring parameters from ./dnc-py3/tasks/copy/checkpoints/model-single-10/model.ckpt\n",
            "Finished 45/64INFO:tensorflow:Restoring parameters from ./dnc-py3/tasks/copy/checkpoints/model-single-10/model.ckpt\n",
            "Finished 46/64INFO:tensorflow:Restoring parameters from ./dnc-py3/tasks/copy/checkpoints/model-single-10/model.ckpt\n",
            "Finished 47/64INFO:tensorflow:Restoring parameters from ./dnc-py3/tasks/copy/checkpoints/model-single-10/model.ckpt\n",
            "Finished 48/64INFO:tensorflow:Restoring parameters from ./dnc-py3/tasks/copy/checkpoints/model-single-10/model.ckpt\n",
            "Finished 49/64INFO:tensorflow:Restoring parameters from ./dnc-py3/tasks/copy/checkpoints/model-single-10/model.ckpt\n",
            "Finished 50/64INFO:tensorflow:Restoring parameters from ./dnc-py3/tasks/copy/checkpoints/model-single-10/model.ckpt\n",
            "Finished 51/64INFO:tensorflow:Restoring parameters from ./dnc-py3/tasks/copy/checkpoints/model-single-10/model.ckpt\n",
            "Finished 52/64INFO:tensorflow:Restoring parameters from ./dnc-py3/tasks/copy/checkpoints/model-single-10/model.ckpt\n",
            "Finished 53/64INFO:tensorflow:Restoring parameters from ./dnc-py3/tasks/copy/checkpoints/model-single-10/model.ckpt\n",
            "Finished 54/64INFO:tensorflow:Restoring parameters from ./dnc-py3/tasks/copy/checkpoints/model-single-10/model.ckpt\n",
            "Finished 55/64INFO:tensorflow:Restoring parameters from ./dnc-py3/tasks/copy/checkpoints/model-single-10/model.ckpt\n",
            "Finished 56/64INFO:tensorflow:Restoring parameters from ./dnc-py3/tasks/copy/checkpoints/model-single-10/model.ckpt\n",
            "Finished 57/64INFO:tensorflow:Restoring parameters from ./dnc-py3/tasks/copy/checkpoints/model-single-10/model.ckpt\n",
            "Finished 58/64INFO:tensorflow:Restoring parameters from ./dnc-py3/tasks/copy/checkpoints/model-single-10/model.ckpt\n",
            "Finished 59/64INFO:tensorflow:Restoring parameters from ./dnc-py3/tasks/copy/checkpoints/model-single-10/model.ckpt\n",
            "Finished 60/64INFO:tensorflow:Restoring parameters from ./dnc-py3/tasks/copy/checkpoints/model-single-10/model.ckpt\n",
            "Finished 61/64INFO:tensorflow:Restoring parameters from ./dnc-py3/tasks/copy/checkpoints/model-single-10/model.ckpt\n",
            "Finished 62/64INFO:tensorflow:Restoring parameters from ./dnc-py3/tasks/copy/checkpoints/model-single-10/model.ckpt\n",
            "Finished 63/64INFO:tensorflow:Restoring parameters from ./dnc-py3/tasks/copy/checkpoints/model-single-10/model.ckpt\n",
            "Finished 64/64"
          ],
          "name": "stdout"
        }
      ]
    },
    {
      "metadata": {
        "id": "o0ALN4yyzPOt",
        "colab_type": "code",
        "outputId": "6f349238-6d9c-429c-e7ea-202035323f6f",
        "colab": {
          "base_uri": "https://localhost:8080/",
          "height": 607
        }
      },
      "cell_type": "code",
      "source": [
        "fig, ax = plt.subplots()\n",
        "\n",
        "imax = ax.imshow(fraction_correct, cmap=plt.cm.coolwarm)\n",
        "\n",
        "ax.set_ylabel('Sequence Lengths')\n",
        "ax.set_yticks([0, 1, 2, 3, 4, 5, 6, 7])\n",
        "ax.set_yticklabels(['5', '10', '15', '20', '25', '30', '35', '40'])\n",
        "\n",
        "ax.set_xlabel('Memory Locations')\n",
        "ax.set_xticks([0, 1, 2, 3, 4, 5, 6, 7])\n",
        "ax.set_xticklabels(['10', '15', '20', '25', '30', '35', '40', '45'])\n",
        "\n",
        "ax.grid(True)\n",
        "\n",
        "divider = make_axes_locatable(ax)\n",
        "cbar_ax = divider.append_axes(\"right\", size=\"5%\", pad=0.1)\n",
        "\n",
        "fig.colorbar(imax, cax=cbar_ax, ticks=[0, 0.2, 0.4, 0.6, 0.8, 1], label='Fraction Correct')"
      ],
      "execution_count": 0,
      "outputs": [
        {
          "output_type": "execute_result",
          "data": {
            "text/plain": [
              "<matplotlib.colorbar.Colorbar at 0x7f42ba1c8f28>"
            ]
          },
          "metadata": {
            "tags": []
          },
          "execution_count": 20
        },
        {
          "output_type": "display_data",
          "data": {
            "image/png": "[encoded data removed]",
            "text/plain": [
              "<matplotlib.figure.Figure at 0x7f42bc31ca58>"
            ]
          },
          "metadata": {
            "tags": []
          }
        }
      ]
    },
    {
      "metadata": {
        "id": "m8eMO8zNzU8u",
        "colab_type": "code",
        "colab": {}
      },
      "cell_type": "code",
      "source": [
        ""
      ],
      "execution_count": 0,
      "outputs": []
    }
  ]
}