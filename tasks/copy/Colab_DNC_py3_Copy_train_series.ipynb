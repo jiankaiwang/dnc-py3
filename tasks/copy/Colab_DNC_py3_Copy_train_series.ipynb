{
  "nbformat": 4,
  "nbformat_minor": 0,
  "metadata": {
    "colab": {
      "name": "DNC-py3-Copy-train-series.ipynb",
      "version": "0.3.2",
      "provenance": [],
      "collapsed_sections": [],
      "toc_visible": true
    },
    "kernelspec": {
      "name": "python3",
      "display_name": "Python 3"
    },
    "accelerator": "TPU"
  },
  "cells": [
    {
      "metadata": {
        "id": "Qoi4npP1scCx",
        "colab_type": "code",
        "colab": {}
      },
      "cell_type": "code",
      "source": [
        "import os"
      ],
      "execution_count": 0,
      "outputs": []
    },
    {
      "metadata": {
        "id": "FNJRywSquT-q",
        "colab_type": "text"
      },
      "cell_type": "markdown",
      "source": [
        "# Reference\n",
        "\n",
        "* https://github.com/Kajiyu/dnc-py3.git\n",
        "* https://github.com/Mostafa-Samir/DNC-tensorflow.git"
      ]
    },
    {
      "metadata": {
        "id": "68KZVEi8rfJ3",
        "colab_type": "text"
      },
      "cell_type": "markdown",
      "source": [
        "# Source Code"
      ]
    },
    {
      "metadata": {
        "id": "WnSKswVNrQsT",
        "colab_type": "code",
        "outputId": "160b4d93-8616-47b9-9df7-3ccabc0ad44d",
        "colab": {
          "base_uri": "https://localhost:8080/",
          "height": 119
        }
      },
      "cell_type": "code",
      "source": [
        "!git clone https://github.com/Kajiyu/dnc-py3.git"
      ],
      "execution_count": 0,
      "outputs": [
        {
          "output_type": "stream",
          "text": [
            "Cloning into 'dnc-py3'...\n",
            "remote: Enumerating objects: 317, done.\u001b[K\n",
            "remote: Total 317 (delta 0), reused 0 (delta 0), pack-reused 317\u001b[K\n",
            "Receiving objects: 100% (317/317), 43.27 MiB | 22.85 MiB/s, done.\n",
            "Resolving deltas: 100% (197/197), done.\n",
            "Checking out files: 100% (115/115), done.\n"
          ],
          "name": "stdout"
        }
      ]
    },
    {
      "metadata": {
        "id": "a22j35DzrVSs",
        "colab_type": "code",
        "outputId": "f8961c11-cade-42cf-e4d5-3a99c30334d9",
        "colab": {
          "base_uri": "https://localhost:8080/",
          "height": 119
        }
      },
      "cell_type": "code",
      "source": [
        "!git clone https://github.com/Mostafa-Samir/DNC-tensorflow.git"
      ],
      "execution_count": 0,
      "outputs": [
        {
          "output_type": "stream",
          "text": [
            "Cloning into 'DNC-tensorflow'...\n",
            "remote: Enumerating objects: 641, done.\u001b[K\n",
            "remote: Total 641 (delta 0), reused 0 (delta 0), pack-reused 641\u001b[K\n",
            "Receiving objects: 100% (641/641), 89.78 MiB | 28.35 MiB/s, done.\n",
            "Resolving deltas: 100% (317/317), done.\n",
            "Checking out files: 100% (56/56), done.\n"
          ],
          "name": "stdout"
        }
      ]
    },
    {
      "metadata": {
        "id": "K9fA3JPhr4yp",
        "colab_type": "code",
        "colab": {}
      },
      "cell_type": "code",
      "source": [
        "!mv ./DNC-tensorflow/tasks/copy/checkpoints ./dnc-py3/tasks/copy/"
      ],
      "execution_count": 0,
      "outputs": []
    },
    {
      "metadata": {
        "id": "2A0nb5pssOyP",
        "colab_type": "code",
        "outputId": "1eeb605d-8558-4927-e849-b75ca28feb8d",
        "colab": {
          "base_uri": "https://localhost:8080/",
          "height": 34
        }
      },
      "cell_type": "code",
      "source": [
        "print(next(os.walk(\"./dnc-py3/tasks/copy/checkpoints\"))[1])"
      ],
      "execution_count": 0,
      "outputs": [
        {
          "output_type": "stream",
          "text": [
            "['model-series-2', 'model-series-4', 'model-single-10']\n"
          ],
          "name": "stdout"
        }
      ]
    },
    {
      "metadata": {
        "id": "fcl8KW6DulXV",
        "colab_type": "text"
      },
      "cell_type": "markdown",
      "source": [
        "# Copy Train Series"
      ]
    },
    {
      "metadata": {
        "id": "Sqk7Hr1lumew",
        "colab_type": "code",
        "colab": {}
      },
      "cell_type": "code",
      "source": [
        "import os\n",
        "import sys\n",
        "import itertools\n",
        "import numpy as np\n",
        "import tensorflow as tf\n",
        "import matplotlib.pyplot as plt\n",
        "import matplotlib.patches as mpatches\n",
        "import matplotlib.gridspec as gridspec\n",
        "from mpl_toolkits.axes_grid1 import make_axes_locatable\n",
        "\n",
        "sys.path.append(os.path.join(\".\",\"dnc-py3\"))\n",
        "from dnc.dnc import DNC\n",
        "\n",
        "sys.path.append(os.path.join(\".\",\"dnc-py3\",\"tasks\",\"copy\"))\n",
        "from feedforward_controller import FeedforwardController\n",
        "\n",
        "%matplotlib inline\n",
        "plt.rcParams['figure.figsize'] = (10, 15)"
      ],
      "execution_count": 0,
      "outputs": []
    },
    {
      "metadata": {
        "id": "IY-0VQksu_BJ",
        "colab_type": "code",
        "colab": {}
      },
      "cell_type": "code",
      "source": [
        "def llprint(message):\n",
        "    sys.stdout.write(message)\n",
        "    sys.stdout.flush()"
      ],
      "execution_count": 0,
      "outputs": []
    },
    {
      "metadata": {
        "id": "7gGMZnx4vFVJ",
        "colab_type": "code",
        "colab": {}
      },
      "cell_type": "code",
      "source": [
        "def generate_data(batch_size, length, size):\n",
        "    \"\"\"\n",
        "    batch_size\n",
        "    \"\"\"\n",
        "    input_data = np.zeros((batch_size, 2 * length + 1, size), dtype=np.float32)\n",
        "    target_output = np.zeros((batch_size, 2 * length + 1, size), dtype=np.float32)\n",
        "\n",
        "    sequence = np.random.binomial(1, 0.5, (batch_size, length, size - 1))\n",
        "\n",
        "    input_data[:, :length, :size - 1] = sequence\n",
        "    input_data[:, length, -1] = 1  # the end symbol\n",
        "    target_output[:, length + 1:, :size - 1] = sequence\n",
        "\n",
        "    return input_data, target_output"
      ],
      "execution_count": 0,
      "outputs": []
    },
    {
      "metadata": {
        "id": "1qJE3JIaBesQ",
        "colab_type": "code",
        "outputId": "4f88e8b8-688d-47af-f32e-eb6e54dec9f1",
        "colab": {
          "base_uri": "https://localhost:8080/",
          "height": 136
        }
      },
      "cell_type": "code",
      "source": [
        "inputs, targets = generate_data(2, 1, 4)\n",
        "print(inputs, inputs.shape)"
      ],
      "execution_count": 0,
      "outputs": [
        {
          "output_type": "stream",
          "text": [
            "[[[1. 0. 0. 0.]\n",
            "  [0. 0. 0. 1.]\n",
            "  [0. 0. 0. 0.]]\n",
            "\n",
            " [[1. 1. 0. 0.]\n",
            "  [0. 0. 0. 1.]\n",
            "  [0. 0. 0. 0.]]] (2, 3, 4)\n"
          ],
          "name": "stdout"
        }
      ]
    },
    {
      "metadata": {
        "id": "QpHaXpxgvGjU",
        "colab_type": "code",
        "colab": {}
      },
      "cell_type": "code",
      "source": [
        "def binary_cross_entropy(predictions, targets):\n",
        "\n",
        "    return tf.reduce_mean(\n",
        "        -1 * targets * tf.log(predictions) - (1 - targets) * tf.log(1 - predictions)\n",
        "    )"
      ],
      "execution_count": 0,
      "outputs": []
    },
    {
      "metadata": {
        "id": "4PSD6ZMC7zvs",
        "colab_type": "text"
      },
      "cell_type": "markdown",
      "source": [
        "## Starting Training"
      ]
    },
    {
      "metadata": {
        "id": "Mrsml-eq8EeD",
        "colab_type": "code",
        "outputId": "480e1e2d-7eb0-4e25-bfad-63bdd10c722b",
        "colab": {
          "base_uri": "https://localhost:8080/",
          "height": 34
        }
      },
      "cell_type": "code",
      "source": [
        "print(next(os.walk(os.path.join(\".\",\"dnc-py3\",\"tasks\",\"copy\",\"checkpoints\")))[1])"
      ],
      "execution_count": 0,
      "outputs": [
        {
          "output_type": "stream",
          "text": [
            "['model-series-2', 'model-series-4', 'model-single-10']\n"
          ],
          "name": "stdout"
        }
      ]
    },
    {
      "metadata": {
        "id": "3xeWEw5t8hxp",
        "colab_type": "code",
        "colab": {}
      },
      "cell_type": "code",
      "source": [
        "!mv \"./dnc-py3/tasks/copy/checkpoints\" \"./dnc-py3/tasks/copy/checkpoints_repo\" "
      ],
      "execution_count": 0,
      "outputs": []
    },
    {
      "metadata": {
        "id": "1yQUk0078y8Z",
        "colab_type": "code",
        "colab": {}
      },
      "cell_type": "code",
      "source": [
        "!mkdir \"./dnc-py3/tasks/copy/checkpoints\""
      ],
      "execution_count": 0,
      "outputs": []
    },
    {
      "metadata": {
        "id": "lhZzTt2t72XS",
        "colab_type": "code",
        "outputId": "6fc7033c-87b0-4271-f34e-29fd9171caf8",
        "colab": {
          "base_uri": "https://localhost:8080/",
          "height": 3658
        }
      },
      "cell_type": "code",
      "source": [
        "dirname = os.path.join(\".\",\"dnc-py3\",\"tasks\",\"copy\")\n",
        "ckpts_dir = os.path.join(dirname , 'checkpoints')\n",
        "tb_logs_dir = os.path.join(dirname, 'logs')\n",
        "\n",
        "batch_size = 10\n",
        "input_size = output_size = 6\n",
        "series_length = 4\n",
        "sequence_max_length = 44\n",
        "words_count = 10\n",
        "word_size = 10\n",
        "read_heads = 1\n",
        "\n",
        "learning_rate = 1e-4\n",
        "momentum = 0.9\n",
        "\n",
        "from_checkpoint = None\n",
        "iterations = 10000\n",
        "start_step = 0\n",
        "\n",
        "graph = tf.Graph()\n",
        "\n",
        "with graph.as_default():\n",
        "    with tf.Session(graph=graph) as session:\n",
        "\n",
        "        llprint(\"Building Computational Graph ... \")\n",
        "\n",
        "        optimizer = tf.train.RMSPropOptimizer(learning_rate, momentum=momentum)\n",
        "        summerizer = tf.summary.FileWriter(tb_logs_dir, session.graph)\n",
        "\n",
        "        ncomputer = DNC(\n",
        "            FeedforwardController,\n",
        "            input_size,\n",
        "            output_size,\n",
        "            sequence_max_length,\n",
        "            words_count,\n",
        "            word_size,\n",
        "            read_heads,\n",
        "            batch_size\n",
        "        )\n",
        "\n",
        "        output, _ = ncomputer.get_outputs()\n",
        "        squashed_output = tf.clip_by_value(tf.sigmoid(output), 1e-6, 1. - 1e-6)\n",
        "\n",
        "        loss = binary_cross_entropy(squashed_output, ncomputer.target_output)\n",
        "\n",
        "        summeries = []\n",
        "\n",
        "        gradients = optimizer.compute_gradients(loss)\n",
        "        for i, (grad, var) in enumerate(gradients):\n",
        "            if grad is not None:\n",
        "                summeries.append(tf.summary.histogram(var.name + '/grad', grad))\n",
        "                gradients[i] = (tf.clip_by_value(grad, -10, 10), var)\n",
        "\n",
        "        apply_gradients = optimizer.apply_gradients(gradients)\n",
        "\n",
        "        summeries.append(tf.summary.scalar(\"Loss\", loss))\n",
        "\n",
        "        summerize_op = tf.summary.merge(summeries)\n",
        "        no_summerize = tf.no_op()\n",
        "\n",
        "        llprint(\"Done!\\n\")\n",
        "\n",
        "        llprint(\"Initializing Variables ... \")\n",
        "        session.run(tf.initialize_all_variables())\n",
        "        llprint(\"Done!\\n\")\n",
        "\n",
        "        if from_checkpoint is not None:\n",
        "            llprint(\"Restoring Checkpoint %s ... \" % (from_checkpoint))\n",
        "            ncomputer.restore(session, ckpts_dir, from_checkpoint)\n",
        "            llprint(\"Done!\\n\")\n",
        "\n",
        "\n",
        "        last_100_losses = []\n",
        "\n",
        "        start = 0 if start_step == 0 else start_step + 1\n",
        "        end = start_step + iterations + 1\n",
        "\n",
        "        for i in range(start, end):\n",
        "            llprint(\"\\rIteration %d/%d\" % (i, end - 1))\n",
        "\n",
        "            input_series = []\n",
        "            output_series = []\n",
        "\n",
        "            for k in range(series_length):\n",
        "                input_data, target_output = generate_data(batch_size, 5, input_size)\n",
        "                input_series.append(input_data)\n",
        "                output_series.append(target_output)\n",
        "\n",
        "            one_big_input = np.concatenate(input_series, axis=1)\n",
        "            one_big_output = np.concatenate(output_series, axis=1)\n",
        "\n",
        "            summerize = (i % 100 == 0)\n",
        "            take_checkpoint = (i != 0) and (i % iterations == 0)\n",
        "\n",
        "            loss_value, _, summary = session.run([\n",
        "                loss,\n",
        "                apply_gradients,\n",
        "                summerize_op\n",
        "            ], feed_dict={\n",
        "                ncomputer.input_data: one_big_input,\n",
        "                ncomputer.target_output: one_big_output,\n",
        "                ncomputer.sequence_length: sequence_max_length,\n",
        "                ncomputer.input_mode: np.zeros((batch_size, sequence_max_length, output_size))\n",
        "            })\n",
        "\n",
        "            last_100_losses.append(loss_value)\n",
        "            \n",
        "            #if summary is not None:\n",
        "            #  summerizer.add_summary(summary, i)\n",
        "\n",
        "            if summerize:\n",
        "                llprint(\"\\n\\tAvg. Logistic Loss: %.4f\\n\" % (np.mean(last_100_losses)))\n",
        "                last_100_losses = []\n",
        "\n",
        "            if take_checkpoint:\n",
        "                llprint(\"\\nSaving Checkpoint ... \"),\n",
        "                ncomputer.save(session, ckpts_dir, 'step-%d' % (i))\n",
        "                llprint(\"Done!\\n\")"
      ],
      "execution_count": 0,
      "outputs": [
        {
          "output_type": "stream",
          "text": [
            "Building Computational Graph ... INFO:tensorflow:Summary name controller/layer1_W:0/grad is illegal; using controller/layer1_W_0/grad instead.\n",
            "INFO:tensorflow:Summary name controller/layer2_W:0/grad is illegal; using controller/layer2_W_0/grad instead.\n",
            "INFO:tensorflow:Summary name controller/layer1_b:0/grad is illegal; using controller/layer1_b_0/grad instead.\n",
            "INFO:tensorflow:Summary name controller/layer2_b:0/grad is illegal; using controller/layer2_b_0/grad instead.\n",
            "INFO:tensorflow:Summary name controller/interface_weights:0/grad is illegal; using controller/interface_weights_0/grad instead.\n",
            "INFO:tensorflow:Summary name controller/nn_output_weights:0/grad is illegal; using controller/nn_output_weights_0/grad instead.\n",
            "INFO:tensorflow:Summary name controller/mem_output_weights:0/grad is illegal; using controller/mem_output_weights_0/grad instead.\n",
            "Done!\n",
            "Initializing Variables ... Done!\n",
            "Iteration 0/10000\n",
            "\tAvg. Logistic Loss: 0.7090\n",
            "Iteration 100/10000\n",
            "\tAvg. Logistic Loss: 0.6401\n",
            "Iteration 200/10000\n",
            "\tAvg. Logistic Loss: 0.3144\n",
            "Iteration 300/10000\n",
            "\tAvg. Logistic Loss: 0.2580\n",
            "Iteration 400/10000\n",
            "\tAvg. Logistic Loss: 0.2344\n",
            "Iteration 500/10000\n",
            "\tAvg. Logistic Loss: 0.2217\n",
            "Iteration 600/10000\n",
            "\tAvg. Logistic Loss: 0.2159\n",
            "Iteration 700/10000\n",
            "\tAvg. Logistic Loss: 0.2096\n",
            "Iteration 800/10000\n",
            "\tAvg. Logistic Loss: 0.2031\n",
            "Iteration 900/10000\n",
            "\tAvg. Logistic Loss: 0.1978\n",
            "Iteration 1000/10000\n",
            "\tAvg. Logistic Loss: 0.1930\n",
            "Iteration 1100/10000\n",
            "\tAvg. Logistic Loss: 0.1873\n",
            "Iteration 1200/10000\n",
            "\tAvg. Logistic Loss: 0.1821\n",
            "Iteration 1300/10000\n",
            "\tAvg. Logistic Loss: 0.1771\n",
            "Iteration 1400/10000\n",
            "\tAvg. Logistic Loss: 0.1727\n",
            "Iteration 1500/10000\n",
            "\tAvg. Logistic Loss: 0.1657\n",
            "Iteration 1600/10000\n",
            "\tAvg. Logistic Loss: 0.1521\n",
            "Iteration 1700/10000\n",
            "\tAvg. Logistic Loss: 0.1397\n",
            "Iteration 1800/10000\n",
            "\tAvg. Logistic Loss: 0.1209\n",
            "Iteration 1900/10000\n",
            "\tAvg. Logistic Loss: 0.0991\n",
            "Iteration 2000/10000\n",
            "\tAvg. Logistic Loss: 0.0780\n",
            "Iteration 2100/10000\n",
            "\tAvg. Logistic Loss: 0.0632\n",
            "Iteration 2200/10000\n",
            "\tAvg. Logistic Loss: 0.0491\n",
            "Iteration 2300/10000\n",
            "\tAvg. Logistic Loss: 0.0400\n",
            "Iteration 2400/10000\n",
            "\tAvg. Logistic Loss: 0.0310\n",
            "Iteration 2500/10000\n",
            "\tAvg. Logistic Loss: 0.0248\n",
            "Iteration 2600/10000\n",
            "\tAvg. Logistic Loss: 0.0199\n",
            "Iteration 2700/10000\n",
            "\tAvg. Logistic Loss: 0.0165\n",
            "Iteration 2800/10000\n",
            "\tAvg. Logistic Loss: 0.0144\n",
            "Iteration 2900/10000\n",
            "\tAvg. Logistic Loss: 0.0114\n",
            "Iteration 3000/10000\n",
            "\tAvg. Logistic Loss: 0.0108\n",
            "Iteration 3100/10000\n",
            "\tAvg. Logistic Loss: 0.0106\n",
            "Iteration 3200/10000\n",
            "\tAvg. Logistic Loss: 0.0072\n",
            "Iteration 3300/10000\n",
            "\tAvg. Logistic Loss: 0.0063\n",
            "Iteration 3400/10000\n",
            "\tAvg. Logistic Loss: 0.0085\n",
            "Iteration 3500/10000\n",
            "\tAvg. Logistic Loss: 0.0060\n",
            "Iteration 3600/10000\n",
            "\tAvg. Logistic Loss: 0.0043\n",
            "Iteration 3700/10000\n",
            "\tAvg. Logistic Loss: 0.0041\n",
            "Iteration 3800/10000\n",
            "\tAvg. Logistic Loss: 0.0038\n",
            "Iteration 3900/10000\n",
            "\tAvg. Logistic Loss: 0.0045\n",
            "Iteration 4000/10000\n",
            "\tAvg. Logistic Loss: 0.0059\n",
            "Iteration 4100/10000\n",
            "\tAvg. Logistic Loss: 0.0050\n",
            "Iteration 4200/10000\n",
            "\tAvg. Logistic Loss: 0.0039\n",
            "Iteration 4300/10000\n",
            "\tAvg. Logistic Loss: 0.0018\n",
            "Iteration 4400/10000\n",
            "\tAvg. Logistic Loss: 0.0037\n",
            "Iteration 4500/10000\n",
            "\tAvg. Logistic Loss: 0.0024\n",
            "Iteration 4600/10000\n",
            "\tAvg. Logistic Loss: 0.0040\n",
            "Iteration 4700/10000\n",
            "\tAvg. Logistic Loss: 0.0033\n",
            "Iteration 4800/10000\n",
            "\tAvg. Logistic Loss: 0.0295\n",
            "Iteration 4900/10000\n",
            "\tAvg. Logistic Loss: 0.0027\n",
            "Iteration 5000/10000\n",
            "\tAvg. Logistic Loss: 0.0013\n",
            "Iteration 5100/10000\n",
            "\tAvg. Logistic Loss: 0.0043\n",
            "Iteration 5200/10000\n",
            "\tAvg. Logistic Loss: 0.0020\n",
            "Iteration 5300/10000\n",
            "\tAvg. Logistic Loss: 0.0031\n",
            "Iteration 5400/10000\n",
            "\tAvg. Logistic Loss: 0.0022\n",
            "Iteration 5500/10000\n",
            "\tAvg. Logistic Loss: 0.0013\n",
            "Iteration 5600/10000\n",
            "\tAvg. Logistic Loss: 0.0014\n",
            "Iteration 5700/10000\n",
            "\tAvg. Logistic Loss: 0.0012\n",
            "Iteration 5800/10000\n",
            "\tAvg. Logistic Loss: 0.0011\n",
            "Iteration 5900/10000\n",
            "\tAvg. Logistic Loss: 0.0047\n",
            "Iteration 6000/10000\n",
            "\tAvg. Logistic Loss: 0.0029\n",
            "Iteration 6100/10000\n",
            "\tAvg. Logistic Loss: 0.0022\n",
            "Iteration 6200/10000\n",
            "\tAvg. Logistic Loss: 0.0015\n",
            "Iteration 6300/10000\n",
            "\tAvg. Logistic Loss: 0.0008\n",
            "Iteration 6400/10000\n",
            "\tAvg. Logistic Loss: 0.0017\n",
            "Iteration 6500/10000\n",
            "\tAvg. Logistic Loss: 0.0028\n",
            "Iteration 6600/10000\n",
            "\tAvg. Logistic Loss: 0.0007\n",
            "Iteration 6700/10000\n",
            "\tAvg. Logistic Loss: 0.0014\n",
            "Iteration 6800/10000\n",
            "\tAvg. Logistic Loss: 0.0015\n",
            "Iteration 6900/10000\n",
            "\tAvg. Logistic Loss: 0.0021\n",
            "Iteration 7000/10000\n",
            "\tAvg. Logistic Loss: 0.0009\n",
            "Iteration 7100/10000\n",
            "\tAvg. Logistic Loss: 0.0026\n",
            "Iteration 7200/10000\n",
            "\tAvg. Logistic Loss: 0.0020\n",
            "Iteration 7300/10000\n",
            "\tAvg. Logistic Loss: 0.0018\n",
            "Iteration 7400/10000\n",
            "\tAvg. Logistic Loss: 0.0004\n",
            "Iteration 7500/10000\n",
            "\tAvg. Logistic Loss: 0.0035\n",
            "Iteration 7600/10000\n",
            "\tAvg. Logistic Loss: 0.0004\n",
            "Iteration 7700/10000\n",
            "\tAvg. Logistic Loss: 0.0042\n",
            "Iteration 7800/10000\n",
            "\tAvg. Logistic Loss: 0.0007\n",
            "Iteration 7900/10000\n",
            "\tAvg. Logistic Loss: 0.0010\n",
            "Iteration 8000/10000\n",
            "\tAvg. Logistic Loss: 0.0020\n",
            "Iteration 8100/10000\n",
            "\tAvg. Logistic Loss: 0.0004\n",
            "Iteration 8200/10000\n",
            "\tAvg. Logistic Loss: 0.0041\n",
            "Iteration 8300/10000\n",
            "\tAvg. Logistic Loss: 0.0014\n",
            "Iteration 8400/10000\n",
            "\tAvg. Logistic Loss: 0.0103\n",
            "Iteration 8500/10000\n",
            "\tAvg. Logistic Loss: 0.0004\n",
            "Iteration 8600/10000\n",
            "\tAvg. Logistic Loss: 0.0039\n",
            "Iteration 8700/10000\n",
            "\tAvg. Logistic Loss: 0.0018\n",
            "Iteration 8800/10000\n",
            "\tAvg. Logistic Loss: 0.0074\n",
            "Iteration 8900/10000\n",
            "\tAvg. Logistic Loss: 0.0009\n",
            "Iteration 9000/10000\n",
            "\tAvg. Logistic Loss: 0.0011\n",
            "Iteration 9100/10000\n",
            "\tAvg. Logistic Loss: 0.0006\n",
            "Iteration 9200/10000\n",
            "\tAvg. Logistic Loss: 0.0015\n",
            "Iteration 9300/10000\n",
            "\tAvg. Logistic Loss: 0.0005\n",
            "Iteration 9400/10000\n",
            "\tAvg. Logistic Loss: 0.0011\n",
            "Iteration 9500/10000\n",
            "\tAvg. Logistic Loss: 0.0005\n",
            "Iteration 9600/10000\n",
            "\tAvg. Logistic Loss: 0.0019\n",
            "Iteration 9700/10000\n",
            "\tAvg. Logistic Loss: 0.0016\n",
            "Iteration 9800/10000\n",
            "\tAvg. Logistic Loss: 0.0014\n",
            "Iteration 9900/10000\n",
            "\tAvg. Logistic Loss: 0.0018\n",
            "Iteration 10000/10000\n",
            "\tAvg. Logistic Loss: 0.0006\n",
            "\n",
            "Saving Checkpoint ... Done!\n"
          ],
          "name": "stdout"
        }
      ]
    },
    {
      "metadata": {
        "id": "GVBvh5Jr7INO",
        "colab_type": "code",
        "outputId": "95f240e8-fe66-4d02-bec7-7a9d91877b7f",
        "colab": {
          "base_uri": "https://localhost:8080/",
          "height": 34
        }
      },
      "cell_type": "code",
      "source": [
        "print(next(os.walk(ckpts_dir))[1])"
      ],
      "execution_count": 0,
      "outputs": [
        {
          "output_type": "stream",
          "text": [
            "['step-10000', 'step-1000']\n"
          ],
          "name": "stdout"
        }
      ]
    },
    {
      "metadata": {
        "id": "XPavlnhh8LYE",
        "colab_type": "code",
        "outputId": "80d8e090-04e1-4b4b-f1d1-45ed9cb8b691",
        "colab": {
          "base_uri": "https://localhost:8080/",
          "height": 34
        }
      },
      "cell_type": "code",
      "source": [
        "print(next(os.walk(os.path.join(ckpts_dir, \"step-10000\")))[2])"
      ],
      "execution_count": 0,
      "outputs": [
        {
          "output_type": "stream",
          "text": [
            "['model.ckpt.meta', 'model.ckpt.index', 'checkpoint', 'model.ckpt.data-00000-of-00001']\n"
          ],
          "name": "stdout"
        }
      ]
    },
    {
      "metadata": {
        "id": "rydgVeLvWhUB",
        "colab_type": "code",
        "outputId": "0cbe91e1-5894-45a0-fe24-0122ad53f0ec",
        "colab": {
          "base_uri": "https://localhost:8080/",
          "height": 34
        }
      },
      "cell_type": "code",
      "source": [
        "os.path.join(ckpts_dir, \"step-10000\")"
      ],
      "execution_count": 0,
      "outputs": [
        {
          "output_type": "execute_result",
          "data": {
            "text/plain": [
              "'./dnc-py3/tasks/copy/checkpoints/step-10000'"
            ]
          },
          "metadata": {
            "tags": []
          },
          "execution_count": 33
        }
      ]
    },
    {
      "metadata": {
        "id": "p5jR9FCYV3HI",
        "colab_type": "code",
        "outputId": "161963fb-d6ec-4a1c-80ff-2699d5f2c890",
        "colab": {
          "base_uri": "https://localhost:8080/",
          "height": 85
        }
      },
      "cell_type": "code",
      "source": [
        "!zip step-10000 ./dnc-py3/tasks/copy/checkpoints/step-10000/*"
      ],
      "execution_count": 0,
      "outputs": [
        {
          "output_type": "stream",
          "text": [
            "  adding: dnc-py3/tasks/copy/checkpoints/step-10000/checkpoint (deflated 42%)\n",
            "  adding: dnc-py3/tasks/copy/checkpoints/step-10000/model.ckpt.data-00000-of-00001 (deflated 7%)\n",
            "  adding: dnc-py3/tasks/copy/checkpoints/step-10000/model.ckpt.index (deflated 32%)\n",
            "  adding: dnc-py3/tasks/copy/checkpoints/step-10000/model.ckpt.meta (deflated 91%)\n"
          ],
          "name": "stdout"
        }
      ]
    },
    {
      "metadata": {
        "id": "Zx9VyEIiWjop",
        "colab_type": "code",
        "colab": {}
      },
      "cell_type": "code",
      "source": [
        ""
      ],
      "execution_count": 0,
      "outputs": []
    }
  ]
}